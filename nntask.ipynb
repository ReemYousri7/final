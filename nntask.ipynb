{
 "cells": [
  {
   "cell_type": "code",
   "execution_count": 6,
   "id": "abe6c89f",
   "metadata": {},
   "outputs": [
    {
     "name": "stdout",
     "output_type": "stream",
     "text": [
      "w1: 0.2767283674322619 w2: 0.333164177078043\n",
      "w3: -0.2971265837853949 w4: -0.12962517313698851\n",
      "Output 1: 0.7516603266302837\n",
      "Output 2: 0.4696081000863375\n"
     ]
    }
   ],
   "source": [
    "import random\n",
    "\n",
    "def tanh(x):\n",
    "    exp_pos = 2.718281828 ** x  \n",
    "    exp_neg = 2.718281828 ** -x  \n",
    "    return (exp_pos - exp_neg) / (exp_pos + exp_neg)  \n",
    "\n",
    "def random_weight():\n",
    "    return random.uniform(-0.5, 0.5)\n",
    "\n",
    "x1, x2 = 0.1, 0.2\n",
    "\n",
    "w1, w2 = random_weight(), random_weight()\n",
    "w3, w4 = random_weight(), random_weight()\n",
    "\n",
    "\n",
    "print(\"w1:\", w1, \"w2:\", w2)\n",
    "print(\"w3:\", w3, \"w4:\", w4)\n",
    "\n",
    "b1, b2 = 0.5, 0.7\n",
    "\n",
    "h1_input = (w1 * x1) + (w3 * x2) + b1\n",
    "h2_input = (w2 * x1) + (w4 * x2) + b1\n",
    "\n",
    "h1_output = tanh(h1_input)\n",
    "h2_output = tanh(h2_input)\n",
    "\n",
    "\n",
    "o1_input = (w1 * h1_output) + (w2 * h2_output) + b2\n",
    "o2_input = (w3 * h1_output) + (w4 * h2_output) + b2\n",
    "\n",
    "o1_output = tanh(o1_input)\n",
    "o2_output = tanh(o2_input)\n",
    "\n",
    "print(\"Output 1:\", o1_output)\n",
    "print(\"Output 2:\", o2_output)\n"
   ]
  }
 ],
 "metadata": {
  "kernelspec": {
   "display_name": "Python 3 (ipykernel)",
   "language": "python",
   "name": "python3"
  },
  "language_info": {
   "codemirror_mode": {
    "name": "ipython",
    "version": 3
   },
   "file_extension": ".py",
   "mimetype": "text/x-python",
   "name": "python",
   "nbconvert_exporter": "python",
   "pygments_lexer": "ipython3",
   "version": "3.10.9"
  }
 },
 "nbformat": 4,
 "nbformat_minor": 5
}
